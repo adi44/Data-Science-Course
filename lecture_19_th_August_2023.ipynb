{
  "nbformat": 4,
  "nbformat_minor": 0,
  "metadata": {
    "colab": {
      "provenance": [],
      "authorship_tag": "ABX9TyNPgjAq5keNBps4cXxJziKw",
      "include_colab_link": true
    },
    "kernelspec": {
      "name": "python3",
      "display_name": "Python 3"
    },
    "language_info": {
      "name": "python"
    }
  },
  "cells": [
    {
      "cell_type": "markdown",
      "metadata": {
        "id": "view-in-github",
        "colab_type": "text"
      },
      "source": [
        "<a href=\"https://colab.research.google.com/github/adi44/Data-Science-Course/blob/main/lecture_19_th_August_2023.ipynb\" target=\"_parent\"><img src=\"https://colab.research.google.com/assets/colab-badge.svg\" alt=\"Open In Colab\"/></a>"
      ]
    },
    {
      "cell_type": "markdown",
      "source": [
        "# File Link : https://drive.google.com/file/d/1wGEeh0B8l7LSLhGGNjvet_504z3iLFdi/view?pli=1"
      ],
      "metadata": {
        "id": "Oxr4PwwecfJb"
      }
    },
    {
      "cell_type": "code",
      "execution_count": 2,
      "metadata": {
        "id": "UMzZD-ANDfdw"
      },
      "outputs": [],
      "source": [
        "fortune = open(\"Fortune_1000.csv\", encoding='utf-8').readlines()"
      ]
    },
    {
      "cell_type": "code",
      "source": [],
      "metadata": {
        "id": "bgWWSni8ceoI"
      },
      "execution_count": null,
      "outputs": []
    },
    {
      "cell_type": "code",
      "source": [
        "fortune"
      ],
      "metadata": {
        "id": "JPHZKmKOEVi-"
      },
      "execution_count": null,
      "outputs": []
    },
    {
      "cell_type": "code",
      "source": [
        "len(fortune)"
      ],
      "metadata": {
        "id": "vD9P5hXmEsyq"
      },
      "execution_count": null,
      "outputs": []
    },
    {
      "cell_type": "code",
      "source": [
        "type(fortune)"
      ],
      "metadata": {
        "id": "p_Bfetk2FV41"
      },
      "execution_count": null,
      "outputs": []
    },
    {
      "cell_type": "code",
      "source": [
        "fortune[0]"
      ],
      "metadata": {
        "id": "VGElRKy6FbPO"
      },
      "execution_count": null,
      "outputs": []
    },
    {
      "cell_type": "code",
      "source": [
        "fortune_without_coloumn = list(fortune)[1:]"
      ],
      "metadata": {
        "id": "pO7F7c2JFi43"
      },
      "execution_count": 11,
      "outputs": []
    },
    {
      "cell_type": "code",
      "source": [
        "fortune_without_coloumn"
      ],
      "metadata": {
        "id": "ltlhg5VwFurT"
      },
      "execution_count": null,
      "outputs": []
    },
    {
      "cell_type": "code",
      "source": [
        "len(fortune_without_coloumn)"
      ],
      "metadata": {
        "id": "Kd_H3sN8GDLE"
      },
      "execution_count": null,
      "outputs": []
    },
    {
      "cell_type": "code",
      "source": [
        "fortune[0]"
      ],
      "metadata": {
        "id": "JjC__0CuGYrF"
      },
      "execution_count": null,
      "outputs": []
    },
    {
      "cell_type": "code",
      "source": [
        "company_names = [ i.split(\",\")[0] for i in fortune_without_coloumn]"
      ],
      "metadata": {
        "id": "iVUOOaBfG1uG"
      },
      "execution_count": 42,
      "outputs": []
    },
    {
      "cell_type": "code",
      "source": [],
      "metadata": {
        "id": "uVHlD1DeHDZL"
      },
      "execution_count": 20,
      "outputs": []
    },
    {
      "cell_type": "code",
      "source": [
        "company_names"
      ],
      "metadata": {
        "id": "ngCytBlVHPUC"
      },
      "execution_count": null,
      "outputs": []
    },
    {
      "cell_type": "code",
      "source": [
        "coloum_names = fortune[0]\n",
        "coloum_names"
      ],
      "metadata": {
        "colab": {
          "base_uri": "https://localhost:8080/",
          "height": 35
        },
        "id": "mP0ujaK8Iy4g",
        "outputId": "734a613d-cd12-4d4f-c9be-5af3b436f3cf"
      },
      "execution_count": 91,
      "outputs": [
        {
          "output_type": "execute_result",
          "data": {
            "text/plain": [
              "'company,rank,rank_change,revenue,profit,num. of employees,sector,city,state,newcomer,ceo_founder,ceo_woman,profitable,prev_rank,CEO,Website,Ticker,Market Cap\\n'"
            ],
            "application/vnd.google.colaboratory.intrinsic+json": {
              "type": "string"
            }
          },
          "metadata": {},
          "execution_count": 91
        }
      ]
    },
    {
      "cell_type": "code",
      "source": [
        "company_tickers = [ i.split(\",\")[-2] for i in fortune_without_coloumn]"
      ],
      "metadata": {
        "id": "Rel67hMKJqG8"
      },
      "execution_count": 23,
      "outputs": []
    },
    {
      "cell_type": "code",
      "source": [
        "company_tickers"
      ],
      "metadata": {
        "id": "BxxO-Q14Ju5D"
      },
      "execution_count": null,
      "outputs": []
    },
    {
      "cell_type": "code",
      "source": [
        "profits = [ (i.split(\",\")[4]) for i in fortune_without_coloumn ]"
      ],
      "metadata": {
        "id": "9AjukLGXKH84"
      },
      "execution_count": 55,
      "outputs": []
    },
    {
      "cell_type": "code",
      "source": [
        "profits = [ 0 if i == \"\" else float(i) for i in profits]"
      ],
      "metadata": {
        "id": "2xPfwhvUNanP"
      },
      "execution_count": 57,
      "outputs": []
    },
    {
      "cell_type": "code",
      "source": [
        "max(profits)"
      ],
      "metadata": {
        "colab": {
          "base_uri": "https://localhost:8080/"
        },
        "id": "IHSdaZgCKbmF",
        "outputId": "05c04e91-0bc5-4398-e0cc-e175a791ba2b"
      },
      "execution_count": 58,
      "outputs": [
        {
          "output_type": "execute_result",
          "data": {
            "text/plain": [
              "94680.0"
            ]
          },
          "metadata": {},
          "execution_count": 58
        }
      ]
    },
    {
      "cell_type": "code",
      "source": [
        "profits.index(max(profits))"
      ],
      "metadata": {
        "colab": {
          "base_uri": "https://localhost:8080/"
        },
        "id": "Ou-CYZKsKvWK",
        "outputId": "8bcf9703-4d6a-45d6-e204-3571b2fd2ace"
      },
      "execution_count": 59,
      "outputs": [
        {
          "output_type": "execute_result",
          "data": {
            "text/plain": [
              "2"
            ]
          },
          "metadata": {},
          "execution_count": 59
        }
      ]
    },
    {
      "cell_type": "code",
      "source": [
        "company_names[2]"
      ],
      "metadata": {
        "colab": {
          "base_uri": "https://localhost:8080/",
          "height": 35
        },
        "id": "c4fU_snyK2Cg",
        "outputId": "3192cece-4ae0-4ac4-b7ee-eadc3277d039"
      },
      "execution_count": 61,
      "outputs": [
        {
          "output_type": "execute_result",
          "data": {
            "text/plain": [
              "'Apple'"
            ],
            "application/vnd.google.colaboratory.intrinsic+json": {
              "type": "string"
            }
          },
          "metadata": {},
          "execution_count": 61
        }
      ]
    },
    {
      "cell_type": "code",
      "source": [
        "revenues = [ i.split(\",\")[3] for i in fortune_without_coloumn]"
      ],
      "metadata": {
        "id": "jHY6YFuNK-Hf"
      },
      "execution_count": 45,
      "outputs": []
    },
    {
      "cell_type": "code",
      "source": [
        "revenues = [ 0 if i == \"\" else float(i) for i in revenues]"
      ],
      "metadata": {
        "id": "BrxZohXqN2un"
      },
      "execution_count": 62,
      "outputs": []
    },
    {
      "cell_type": "code",
      "source": [
        "max(revenues)"
      ],
      "metadata": {
        "colab": {
          "base_uri": "https://localhost:8080/"
        },
        "id": "cxlCxdYKK-PW",
        "outputId": "0e8aef36-8e97-4265-9604-d7e9aa23f433"
      },
      "execution_count": 63,
      "outputs": [
        {
          "output_type": "execute_result",
          "data": {
            "text/plain": [
              "572754.0"
            ]
          },
          "metadata": {},
          "execution_count": 63
        }
      ]
    },
    {
      "cell_type": "code",
      "source": [
        "revenues.index(max(revenues))"
      ],
      "metadata": {
        "colab": {
          "base_uri": "https://localhost:8080/"
        },
        "id": "ypKtfb1oK-XJ",
        "outputId": "57e2ec68-a9e1-4cab-b7fe-8d7e66977983"
      },
      "execution_count": 64,
      "outputs": [
        {
          "output_type": "execute_result",
          "data": {
            "text/plain": [
              "0"
            ]
          },
          "metadata": {},
          "execution_count": 64
        }
      ]
    },
    {
      "cell_type": "code",
      "source": [
        "company_names[revenues.index(max(revenues))]"
      ],
      "metadata": {
        "colab": {
          "base_uri": "https://localhost:8080/",
          "height": 35
        },
        "id": "Ucdw6XlIK-fT",
        "outputId": "b162a071-2a1a-4da4-ff83-eeeab979502d"
      },
      "execution_count": 66,
      "outputs": [
        {
          "output_type": "execute_result",
          "data": {
            "text/plain": [
              "'Walmart'"
            ],
            "application/vnd.google.colaboratory.intrinsic+json": {
              "type": "string"
            }
          },
          "metadata": {},
          "execution_count": 66
        }
      ]
    },
    {
      "cell_type": "code",
      "source": [
        "fortune[0]"
      ],
      "metadata": {
        "colab": {
          "base_uri": "https://localhost:8080/",
          "height": 35
        },
        "id": "7AOzHVWtQhd8",
        "outputId": "d13ce99e-2510-4551-c2af-bf0b8e56342e"
      },
      "execution_count": 67,
      "outputs": [
        {
          "output_type": "execute_result",
          "data": {
            "text/plain": [
              "'company,rank,rank_change,revenue,profit,num. of employees,sector,city,state,newcomer,ceo_founder,ceo_woman,profitable,prev_rank,CEO,Website,Ticker,Market Cap\\n'"
            ],
            "application/vnd.google.colaboratory.intrinsic+json": {
              "type": "string"
            }
          },
          "metadata": {},
          "execution_count": 67
        }
      ]
    },
    {
      "cell_type": "code",
      "source": [
        "states = [(i.split(\",\"))[8] for i in fortune_without_coloumn]"
      ],
      "metadata": {
        "id": "oSmsbZvaQwkM"
      },
      "execution_count": 77,
      "outputs": []
    },
    {
      "cell_type": "code",
      "source": [
        "print(states)"
      ],
      "metadata": {
        "colab": {
          "base_uri": "https://localhost:8080/"
        },
        "id": "HtRDrqB8RKUg",
        "outputId": "4ad5de60-2e0f-4552-8eec-6e9e51957d57"
      },
      "execution_count": 78,
      "outputs": [
        {
          "output_type": "stream",
          "name": "stdout",
          "text": [
            "['AR', 'WA', 'CA', 'RI', 'MN', 'TX', 'NE', 'CA', 'TX', 'PA', 'WA', 'CT', 'TX', 'WA', 'OH', 'CA', 'GA', 'IL', 'OH', 'IN', 'OH', 'MI', 'NY', 'NY', 'MI', 'MO', 'CA', 'PA', 'TX', 'TX', 'TX', 'MN', 'DC', 'GA', 'NC', 'NC', 'NJ', 'Chicago', 'TN', 'KY', 'CA', 'IL', 'NY', 'NY', 'Purchase', 'CA', 'OH', 'MA', 'NY', 'NY', 'NJ', 'ID', 'CA', 'TX', 'MD', 'VA', 'NY', 'MA', 'CA', 'IL', 'NY', 'TN', 'IL', 'MI', 'TX', 'IL', 'NY', 'MN', 'CT', 'TX', 'NJ', 'NY', 'IL', 'CA', 'MA', 'FL', 'TX', 'MA', 'OH', 'OH', 'Springdale', 'NY', 'OR', 'IL', 'NY', 'IL', 'NY', 'TX', 'TX', 'NY', 'TX', 'MA', 'Atlanta', 'VA', 'Inver Grove Heights', 'TX', 'WI', 'NC', 'IL', 'MA', 'VA', 'MN', 'NY', 'CO', 'NC', 'TN', 'CA', 'VA', 'CA', 'New York', 'FL', 'VA', 'GA', 'TX', 'CA', 'NY', 'IL', 'DC', 'FL', 'Seattle', 'Chicago', 'IN', 'TX', 'TX', 'CA', 'TX', 'ID', 'CA', 'CA', 'NJ', 'FL', 'RI', 'TX', 'CA', 'TX', 'CA', 'VA', 'NY', 'Chicago', 'CA', 'FL', 'MI', 'CA', 'NY', 'NC', 'IL', 'CA', 'PA', 'IN', 'MN', 'WA', 'Chicago', 'GA', 'MN', 'NC', 'CA', 'AZ', 'OR', 'NY', 'CT', 'GA', 'MI', 'NE', 'TN', 'Richmond', 'IL', 'WI', 'CA', 'FL', 'TX', 'OH', 'PA', 'NJ', 'VA', 'OH', 'TX', 'NY', 'PA', 'LA', 'AZ', 'TX', 'TX', 'WI', 'NY', 'IL', 'MI', 'PA', 'TX', 'CA', 'NY', 'GA', 'GA', 'TX', 'NJ', 'MA', 'IN', 'TX', 'TX', 'MO', 'PA', 'Minneapolis', 'IL', 'TX', 'PA', 'CO', 'FL', 'VA', 'CA', 'OH', 'CA', 'NY', 'CT', 'DE', 'MI', 'FL', 'TX', 'CA', 'PA', 'OH', 'CA', 'MA', 'MO', 'TX', 'OK', 'WA', 'CA', 'WI', 'NY', 'NY', 'NC', 'NY', 'Arden Hills', 'TX', 'TX', 'CA', 'CT', 'Indianapolis', 'FL', 'MI', 'AR', 'TX', 'NJ', 'CA', 'MI', 'WA', 'NY', 'NY', 'TX', 'TN', 'CA', 'WI', 'IL', 'OH', 'CT', 'NY', 'IA', 'VA', 'Battle Creek', 'TX', 'TX', 'CA', 'TX', 'NY', 'CA', 'CO', 'CA', 'GA', 'FL', 'NC', 'Bethesda', 'IN', 'CO', 'TX', 'VA', 'MA', 'NY', 'MN', 'MN', 'MO', 'MA', 'IL', 'MI', 'IL', 'IL', 'TX', 'PA', 'NY', 'CA', 'VA', 'AZ', 'CT', 'IL', 'MN', 'TN', 'Maumee', 'Burlington', 'PA', 'FL', 'NY', 'NC', 'CA', 'RI', 'MO', 'TN', 'FL', 'IN', 'PA', 'CO', 'OK', 'NY', 'AR', 'PA', 'NE', 'PA', 'TX', 'MA', 'TN', 'NY', 'MA', 'TX', 'LA', 'NY', 'CO', 'NE', 'NY', 'CO', 'Austin', 'FL', 'AZ', 'GA', 'Chicago', 'GA', 'VA', 'GA', 'Reno', 'NY', 'NC', 'MA', 'MI', 'CT', 'CT', 'NJ', 'OH', 'CO', 'MI', 'TN', 'OK', 'GA', 'TN', 'PA', 'MN', 'Chicago', 'NY', 'WA', 'NY', 'FL', 'CT', 'MA', 'Plano', 'GA', 'VA', 'NJ', 'CT', 'Las Vegas', 'FL', 'CA', 'OH', 'PA', 'IL', 'VA', 'CT', 'OH', 'AZ', 'NY', 'MA', 'IL', 'NJ', 'NJ', 'FL', 'CO', 'NJ', 'Merriam', 'CA', 'GA', 'NY', 'NY', 'NY', 'Hershey', 'VA', 'NY', 'OH', 'MI', 'MO', 'FL', 'MI', 'CA', 'PA', 'DC', 'MO', 'CO', 'MI', 'IL', 'Victor', 'WA', 'NC', 'TX', 'GA', 'OH', 'Camden', 'TX', 'CA', 'CA', 'MI', 'TX', 'OH', 'WI', 'NY', 'RI', 'MN', 'CA', 'MI', 'IL', 'IL', 'WA', 'CA', 'Orrville', 'NJ', 'WI', 'FL', 'CT', 'TX', 'ID', 'IL', 'VA', 'OH', 'VA', 'DE', 'IN', 'PA', 'NJ', 'IL', 'CA', 'MD', 'IL', 'IA', 'CA', 'NY', 'MA', 'OH', 'Newport Beach', 'MI', 'PA', 'AZ', 'OH', 'PA', 'VA', 'PA', 'NC', 'CA', 'TX', 'OH', 'FL', 'MA', 'MN', 'Orlando', 'GA', 'GA', 'NC', 'PA', 'OH', 'CT', 'WI', 'RI', 'CA', 'IL', 'Westchester', 'GA', 'VA', 'TX', 'OH', 'TX', 'CA', 'AZ', 'TX', 'TX', 'TX', 'CA', 'AR', 'AL', 'Louisville', 'FL', 'IL', 'IL', 'CA', 'NY', 'RI', 'FL', 'VA', 'CT', 'MO', 'OH', 'DE', 'TX', 'CA', 'Hunt Valley', 'CA', 'FL', 'CA', 'WA', 'NY', 'St. Louis', 'NY', 'PA', 'WA', 'OH', 'AZ', 'MD', 'OH', 'NY', 'AZ', 'OH', 'VA', 'NY', 'CA', 'MN', 'TX', 'AZ', 'CA', 'MN', 'Wyomissing', 'CA', 'NY', 'IL', 'AZ', 'OK', 'CA', 'IL', 'McLean', 'MO', 'CA', 'NY', 'CA', 'CA', 'OK', 'CA', 'MD', 'ND', 'CT', 'IL', 'NC', 'MA', 'CA', 'IL', 'NY', 'WI', 'SC', 'CA', 'MO', 'NC', 'Charlotte', 'OH', 'AL', 'PA', 'Corona', 'NC', 'TX', 'Las Vegas', 'NC', 'TX', 'CA', 'AZ', 'WI', 'IL', 'FL', 'CA', 'NY', 'LA', 'NC', 'WA', 'CO', 'OK', 'CA', 'MA', 'NC', 'DC', 'NJ', 'MI', 'AZ', 'CA', 'TX', 'TN', 'AL', 'IN', 'TX', 'CA', 'CA', 'CA', 'MO', 'CO', 'MA', 'CT', 'WI', 'PA', 'AZ', 'PA', 'MO', 'OH', 'NY', 'NC', 'TX', 'TX', 'PA', 'IL', 'CA', 'KY', 'OH', 'GA', 'MI', 'IN', 'IN', 'CA', 'OH', 'Laurel', 'OH', 'MO', 'NC', 'CA', 'IN', 'CA', 'OH', 'Irving', 'CA', 'CT', 'TX', 'CT', 'IL', 'TX', 'CA', 'CO', 'CA', 'WI', 'TX', 'ME', 'TX', 'TN', 'PA', 'PA', 'NV', 'CA', 'WI', 'CA', 'MA', 'IN', 'DE', 'CA', 'TX', 'Oak Brook', 'NY', 'TX', 'TX', 'CA', 'Ann Arbor', 'VA', 'Thomasville', 'GA', 'CA', 'VA', 'NC', 'IL', 'OH', 'NY', 'PA', 'CO', 'CA', 'VA', 'TX', 'TX', 'NJ', 'OH', 'SC', 'Tampa', 'IN', 'CA', 'CA', 'IN', 'NY', 'NY', 'MN', 'New York', 'IL', 'NC', 'NJ', 'CA', 'TX', 'NV', 'AR', 'MN', 'KS', 'AZ', 'CA', 'MN', 'NJ', 'HI', 'OH', 'Orlando', 'CT', 'TX', 'DE', 'NY', 'MI', 'IL', 'AZ', 'WI', 'WA', 'MA', 'AZ', 'WA', 'TN', 'Las Vegas', 'CA', 'PA', 'OH', 'WI', 'OH', 'OH', 'MA', 'IA', 'NV', 'CT', 'Eagle', 'WI', 'TN', 'VA', 'CA', 'OK', 'MI', 'MN', 'MD', 'CA', 'CA', 'MO', 'TX', 'CA', 'TX', 'MA', 'WI', 'NY', 'OH', 'CA', 'NE', 'NH', 'TX', 'IL', 'GA', 'FL', 'GA', 'Louisville', 'MA', 'Louisville', 'GA', 'DE', 'TX', 'IL', 'GA', 'CA', 'MA', 'CT', 'TX', 'NJ', 'NY', 'Las Vegas', 'WI', 'SC', 'OH', 'VT', 'PA', 'TX', 'CA', 'Dallas', 'NC', 'MO', 'Las Vegas', 'NY', 'TX', 'CA', 'GA', 'MN', 'IL', 'IA', 'NY', 'PA', 'OH', 'OH', 'TN', 'FL', 'IL', 'FL', 'ME', 'CA', 'CA', 'VA', 'CA', 'OH', 'VA', 'NY', 'OH', 'IN', 'CA', 'IL', 'Orlando', 'Carlsbad', 'FL', 'OR', 'PA', 'TN', 'CA', 'NY', 'OH', 'TX', 'TX', 'PA', 'FL', 'TX', 'Chicago', 'TX', 'MO', 'IL', 'TX', 'NJ', 'WI', 'KS', 'VA', 'NC', 'CA', 'DE', 'TX', 'KY', 'PA', 'NC', 'MI', 'UT', 'WI', 'MA', 'CA', 'CT', 'TX', 'IL', 'Calabasas Hills', 'AZ', 'CA', 'CA', 'CA', 'IL', 'NY', 'NH', 'MD', 'MA', 'TX', 'OK', 'IN', 'MN', 'NY', 'HI', 'PA', 'CA', 'NY', 'NY', 'GA', 'PA', 'NE', 'Lebanon', 'NY', 'PA', 'CA', 'PA', 'CA', 'MA', 'NY', 'NJ', 'RI', 'MO', 'DC', 'UT', 'MI', 'NY', 'NY', 'IL', 'PR', 'CA', 'OR', 'TN', 'NE', 'GA', 'UT', 'GA', 'CA', 'UT', 'TX', 'UT', 'CA', 'TX', 'IL', 'CA', 'CA', 'CO', 'CA', 'MN', 'WA', 'MI', 'TX', 'CA', 'NV', 'CA', 'NY', 'VA', 'PA', 'AZ', 'CA', 'NY', 'KS', 'NC', 'CO', 'NC', 'CO', 'CT', 'PA', 'MI', 'IL', 'CA', 'GA', 'TN', 'MA', 'OH', 'MI', 'GA', 'FL', 'CO', 'DE', 'MO', 'IN', 'FL', 'OR', 'WI', 'TN', 'CA', 'OH', 'VA', 'OH', 'IL', 'TX', 'Orlando', 'MI', 'NY', 'CO', 'OH', 'NY', 'FL', 'TX', 'MA', 'VA', 'GA', 'OH', 'CO', 'MI', 'TN', 'FL', 'CA', 'AZ', 'IN', 'CA', 'TX', 'CO', 'TX', 'MO', 'MN', 'TN', 'LA', 'LA', 'IL', 'MO', 'CA', 'MN', 'IA', 'CA', 'WA', 'NY', 'FL', 'CA', 'NJ', 'Fairhaven', 'PA', 'GA', 'OH', 'TX', 'VA', 'CA', 'NY', 'NY', 'DE', 'CA']\n"
          ]
        }
      ]
    },
    {
      "cell_type": "code",
      "source": [
        "list_format_for_each_company = [i.split(\",\") for i in fortune_without_coloumn]"
      ],
      "metadata": {
        "id": "DE7IQecVRcqv"
      },
      "execution_count": 79,
      "outputs": []
    },
    {
      "cell_type": "code",
      "source": [
        "count = 0\n",
        "# loop through each company and check if its situated in \"TX\"\n",
        "for i in list_format_for_each_company:\n",
        "  count = count + 1 if i[8] == \"TX\" else count\n",
        "\n",
        "print(count)"
      ],
      "metadata": {
        "colab": {
          "base_uri": "https://localhost:8080/"
        },
        "id": "naEktOiqRlyj",
        "outputId": "8e1d57da-047f-486c-84c6-7e0935fb1a46"
      },
      "execution_count": 80,
      "outputs": [
        {
          "output_type": "stream",
          "name": "stdout",
          "text": [
            "94\n"
          ]
        }
      ]
    },
    {
      "cell_type": "code",
      "source": [
        "# print dictionary of state and total number of companies from it.\n",
        "# convert all the strings to list format\n",
        "\n",
        "list_format_for_each_company = [i.split(\",\") for i in fortune_without_coloumn]\n",
        "\n",
        "# initialize empty dictionary\n",
        "dict_of_states = {}\n",
        "\n",
        "# loop through each dictionary\n",
        "for i in list_format_for_each_company:\n",
        "  # index of state is 8\n",
        "  state = i[8]\n",
        "\n",
        "  # check if state is available in dict\n",
        "  if not dict_of_states.get(state):\n",
        "    # if its not we will put it in dictionary and initalize its value to one.\n",
        "    dict_of_states[state] = 1\n",
        "  # if state is repeating again we will just increment it\n",
        "  dict_of_states[state] +=1\n",
        "\n",
        "dict_of_states"
      ],
      "metadata": {
        "colab": {
          "base_uri": "https://localhost:8080/"
        },
        "id": "lPQ6L9PoR2C6",
        "outputId": "e93a6922-df73-4fad-8d9a-6159753cb660"
      },
      "execution_count": 87,
      "outputs": [
        {
          "output_type": "execute_result",
          "data": {
            "text/plain": [
              "{'AR': 6,\n",
              " 'WA': 17,\n",
              " 'CA': 128,\n",
              " 'RI': 8,\n",
              " 'MN': 24,\n",
              " 'TX': 95,\n",
              " 'NE': 8,\n",
              " 'PA': 44,\n",
              " 'CT': 25,\n",
              " 'OH': 53,\n",
              " 'GA': 33,\n",
              " 'IL': 54,\n",
              " 'IN': 19,\n",
              " 'MI': 30,\n",
              " 'NY': 84,\n",
              " 'MO': 21,\n",
              " 'DC': 6,\n",
              " 'NC': 29,\n",
              " 'NJ': 23,\n",
              " 'Chicago': 8,\n",
              " 'TN': 22,\n",
              " 'KY': 4,\n",
              " 'Purchase': 2,\n",
              " 'MA': 32,\n",
              " 'ID': 4,\n",
              " 'MD': 7,\n",
              " 'VA': 33,\n",
              " 'FL': 34,\n",
              " 'Springdale': 2,\n",
              " 'OR': 6,\n",
              " 'Atlanta': 2,\n",
              " 'Inver Grove Heights': 2,\n",
              " 'WI': 22,\n",
              " 'CO': 22,\n",
              " 'New York': 3,\n",
              " 'Seattle': 2,\n",
              " 'AZ': 21,\n",
              " 'Richmond': 2,\n",
              " 'LA': 6,\n",
              " 'Minneapolis': 2,\n",
              " 'DE': 10,\n",
              " 'OK': 9,\n",
              " 'Arden Hills': 2,\n",
              " 'Indianapolis': 2,\n",
              " 'IA': 6,\n",
              " 'Battle Creek': 2,\n",
              " 'Bethesda': 2,\n",
              " 'Maumee': 2,\n",
              " 'Burlington': 2,\n",
              " 'Austin': 2,\n",
              " 'Reno': 2,\n",
              " 'Plano': 2,\n",
              " 'Las Vegas': 6,\n",
              " 'Merriam': 2,\n",
              " 'Hershey': 2,\n",
              " 'Victor': 2,\n",
              " 'Camden': 2,\n",
              " 'Orrville': 2,\n",
              " 'Newport Beach': 2,\n",
              " 'Orlando': 5,\n",
              " 'Westchester': 2,\n",
              " 'AL': 4,\n",
              " 'Louisville': 4,\n",
              " 'Hunt Valley': 2,\n",
              " 'St. Louis': 2,\n",
              " 'Wyomissing': 2,\n",
              " 'McLean': 2,\n",
              " 'ND': 2,\n",
              " 'SC': 4,\n",
              " 'Charlotte': 2,\n",
              " 'Corona': 2,\n",
              " 'Laurel': 2,\n",
              " 'Irving': 2,\n",
              " 'ME': 3,\n",
              " 'NV': 5,\n",
              " 'Oak Brook': 2,\n",
              " 'Ann Arbor': 2,\n",
              " 'Thomasville': 2,\n",
              " 'Tampa': 2,\n",
              " 'KS': 4,\n",
              " 'HI': 3,\n",
              " 'Eagle': 2,\n",
              " 'NH': 3,\n",
              " 'VT': 2,\n",
              " 'Dallas': 2,\n",
              " 'Carlsbad': 2,\n",
              " 'UT': 6,\n",
              " 'Calabasas Hills': 2,\n",
              " 'Lebanon': 2,\n",
              " 'PR': 2,\n",
              " 'Fairhaven': 2}"
            ]
          },
          "metadata": {},
          "execution_count": 87
        }
      ]
    },
    {
      "cell_type": "code",
      "source": [
        "# print the name of companies whose profit is greater than revenue\n",
        "# Loop through each list format\n",
        "for company in list_format_for_each_company:\n",
        "  company_name = company[0]\n",
        "  profit = company[4]\n",
        "  revenue = company[3]\n",
        "  # check if profit is empty string\n",
        "  if profit == \"\":\n",
        "    # if yes put it to 0.0\n",
        "    profit = 0.0\n",
        "  # check if revenue is empty string\n",
        "  if revenue == \"\":\n",
        "    # if yes put it to 0.0\n",
        "    revenue = 0.0\n",
        "\n",
        "  # check if profit > revenue\n",
        "  # if yes print the name of company\n",
        "  if float(revenue) - float(profit) < 0:\n",
        "    print(company_name)"
      ],
      "metadata": {
        "colab": {
          "base_uri": "https://localhost:8080/"
        },
        "id": "_0aKzeJEYzoM",
        "outputId": "e08ef16c-dabb-4b14-bdfa-6e2aacc19f10"
      },
      "execution_count": 90,
      "outputs": [
        {
          "output_type": "stream",
          "name": "stdout",
          "text": [
            "eBay\n",
            "Bio-Rad Laboratories\n",
            "Cooper Cos.\n"
          ]
        }
      ]
    },
    {
      "cell_type": "code",
      "source": [
        "fortune[0]"
      ],
      "metadata": {
        "colab": {
          "base_uri": "https://localhost:8080/",
          "height": 35
        },
        "id": "1rISf5xfccqX",
        "outputId": "0f8c1cb7-40f7-4c80-dabb-7e2e18e17214"
      },
      "execution_count": 93,
      "outputs": [
        {
          "output_type": "execute_result",
          "data": {
            "text/plain": [
              "'company,rank,rank_change,revenue,profit,num. of employees,sector,city,state,newcomer,ceo_founder,ceo_woman,profitable,prev_rank,CEO,Website,Ticker,Market Cap\\n'"
            ],
            "application/vnd.google.colaboratory.intrinsic+json": {
              "type": "string"
            }
          },
          "metadata": {},
          "execution_count": 93
        }
      ]
    },
    {
      "cell_type": "code",
      "source": [
        "# Find number of unique sectors\n",
        "# there are few names that has comma within it due to which name splits into 2\n",
        "# earlier we splitted it\n",
        "sectors = [i[6] + i[7] if i[6].startswith(\"\\\"\") else i[6]  for i in list_format_for_each_company]\n",
        "print(set(sectors))\n",
        "len(set(sectors))"
      ],
      "metadata": {
        "colab": {
          "base_uri": "https://localhost:8080/"
        },
        "id": "BwBHGESZeuCq",
        "outputId": "fcd31ae1-2ebf-4cee-e868-ae0aa41ac661"
      },
      "execution_count": 103,
      "outputs": [
        {
          "output_type": "stream",
          "name": "stdout",
          "text": [
            "{'\"Food Beverages & Tobacco\"', 'Retailing', 'Engineering & Construction', 'Health Care', 'Materials', 'Apparel', 'Household Products', 'Chemicals', '\"Hotels Restaurants & Leisure\"', 'Aerospace & Defense', 'Telecommunications', 'Energy', 'Media', 'Business Services', 'Motor Vehicles & Parts', 'Financials', 'Food & Drug Stores', 'Technology', 'Industrials', 'Wholesalers', 'Transportation'}\n"
          ]
        },
        {
          "output_type": "execute_result",
          "data": {
            "text/plain": [
              "21"
            ]
          },
          "metadata": {},
          "execution_count": 103
        }
      ]
    }
  ]
}